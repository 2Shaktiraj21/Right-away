{
  "nbformat": 4,
  "nbformat_minor": 0,
  "metadata": {
    "colab": {
      "provenance": []
    },
    "kernelspec": {
      "name": "python3",
      "display_name": "Python 3"
    },
    "language_info": {
      "name": "python"
    }
  },
  "cells": [
    {
      "cell_type": "markdown",
      "source": [
        "Declaring variables\n"
      ],
      "metadata": {
        "id": "4gOk3gyU4ZpJ"
      }
    },
    {
      "cell_type": "code",
      "source": [
        "var1 = 2\n",
        "var2 = 5.0\n",
        "var3 = True\n",
        "var4 = \"Machine Learning\""
      ],
      "metadata": {
        "id": "o_k15c6z4XSJ"
      },
      "execution_count": null,
      "outputs": []
    },
    {
      "cell_type": "code",
      "source": [
        "print(\"Value of var1 :\",var1)\n",
        "print(\"Value of var2 :\",var2)\n",
        "print(\"Value of var3 :\",var3)\n",
        "print(\"Value of var4 :\",var4)"
      ],
      "metadata": {
        "colab": {
          "base_uri": "https://localhost:8080/"
        },
        "id": "JIlGDx3Mt3K0",
        "outputId": "c34981f6-43a1-440c-8151-6cf30ce5245d"
      },
      "execution_count": null,
      "outputs": [
        {
          "output_type": "stream",
          "name": "stdout",
          "text": [
            "Value of var1 : 2\n",
            "Value of var2 : 5.0\n",
            "Value of var3 : True\n",
            "Value of var4 : Machine Learning\n"
          ]
        }
      ]
    },
    {
      "cell_type": "code",
      "source": [
        "type(var1)\n",
        "type(var2)\n",
        "type(var3)\n",
        "type(var4)"
      ],
      "metadata": {
        "colab": {
          "base_uri": "https://localhost:8080/"
        },
        "id": "O_pxmC5NuMdd",
        "outputId": "dc609193-33e3-43d2-cffe-8dc263a13485"
      },
      "execution_count": null,
      "outputs": [
        {
          "output_type": "execute_result",
          "data": {
            "text/plain": [
              "str"
            ]
          },
          "metadata": {},
          "execution_count": 5
        }
      ]
    },
    {
      "cell_type": "code",
      "source": [
        "if var1 > 1:\n",
        "  print(\"Bigger than 1\")"
      ],
      "metadata": {
        "colab": {
          "base_uri": "https://localhost:8080/"
        },
        "id": "jFkh2ASougU_",
        "outputId": "0c160f30-7ba7-4dc6-da9a-7e864ca394f0"
      },
      "execution_count": null,
      "outputs": [
        {
          "output_type": "stream",
          "name": "stdout",
          "text": [
            "Bigger than 1\n"
          ]
        }
      ]
    },
    {
      "cell_type": "code",
      "source": [
        "x = 10\n",
        "y = 12\n",
        "if (x > y):\n",
        "  print(\"x > y\")\n",
        "elif x<y:\n",
        "  print(\"x < y\")\n",
        "else:\n",
        "  print(\"x == y\")"
      ],
      "metadata": {
        "colab": {
          "base_uri": "https://localhost:8080/"
        },
        "id": "-x-eWzoyupiX",
        "outputId": "ccd499e9-20c0-4286-8937-d9b153117637"
      },
      "execution_count": null,
      "outputs": [
        {
          "output_type": "stream",
          "name": "stdout",
          "text": [
            "x < y\n"
          ]
        }
      ]
    },
    {
      "cell_type": "code",
      "source": [
        "x = 5\n",
        "isGreater = True if x>10 else False\n",
        "print(isGreater)"
      ],
      "metadata": {
        "colab": {
          "base_uri": "https://localhost:8080/"
        },
        "id": "TjHFOXD8vCM7",
        "outputId": "f1fa56c6-a051-4422-a3c7-33d093b0aa2e"
      },
      "execution_count": null,
      "outputs": [
        {
          "output_type": "stream",
          "name": "stdout",
          "text": [
            "False\n"
          ]
        }
      ]
    },
    {
      "cell_type": "code",
      "source": [
        "numbers = range(1,6)\n",
        "numbers"
      ],
      "metadata": {
        "colab": {
          "base_uri": "https://localhost:8080/"
        },
        "id": "n-1OVPqRvP6T",
        "outputId": "5b4d931e-4c56-4457-d048-c8d8e49d0c54"
      },
      "execution_count": null,
      "outputs": [
        {
          "output_type": "execute_result",
          "data": {
            "text/plain": [
              "range(1, 6)"
            ]
          },
          "metadata": {},
          "execution_count": 10
        }
      ]
    },
    {
      "cell_type": "code",
      "source": [
        "for i in numbers:\n",
        "  print (i)"
      ],
      "metadata": {
        "colab": {
          "base_uri": "https://localhost:8080/"
        },
        "id": "Q46x6W7CvX89",
        "outputId": "ad05c6ec-76bb-42cd-8b7e-ebcb341667ea"
      },
      "execution_count": null,
      "outputs": [
        {
          "output_type": "stream",
          "name": "stdout",
          "text": [
            "1\n",
            "2\n",
            "3\n",
            "4\n",
            "5\n"
          ]
        }
      ]
    },
    {
      "cell_type": "code",
      "source": [
        "i = 1\n",
        "while i<5:\n",
        "  print(i)\n",
        "  i = i+1\n",
        "print(\"done\")\n"
      ],
      "metadata": {
        "colab": {
          "base_uri": "https://localhost:8080/"
        },
        "id": "tCnDLqepvdlE",
        "outputId": "7dcefc28-ae72-4b5f-be0c-6d38b44b8bf4"
      },
      "execution_count": null,
      "outputs": [
        {
          "output_type": "stream",
          "name": "stdout",
          "text": [
            "1\n",
            "2\n",
            "3\n",
            "4\n",
            "done\n"
          ]
        }
      ]
    },
    {
      "cell_type": "markdown",
      "source": [
        "Functions"
      ],
      "metadata": {
        "id": "DmCsgf0U4Q5_"
      }
    },
    {
      "cell_type": "code",
      "source": [
        "def addElements(a,b):\n",
        "  return a+b"
      ],
      "metadata": {
        "id": "Y4reoPCZvuOy"
      },
      "execution_count": null,
      "outputs": []
    },
    {
      "cell_type": "code",
      "source": [
        "result = addElements(2,3)\n",
        "result"
      ],
      "metadata": {
        "colab": {
          "base_uri": "https://localhost:8080/"
        },
        "id": "TK5TcPW5v79p",
        "outputId": "08eba467-683e-4237-e671-09ff68553ed1"
      },
      "execution_count": null,
      "outputs": [
        {
          "output_type": "execute_result",
          "data": {
            "text/plain": [
              "5"
            ]
          },
          "metadata": {},
          "execution_count": 14
        }
      ]
    },
    {
      "cell_type": "code",
      "source": [
        "result = addElements(\"python\",\"workshop\")\n",
        "result"
      ],
      "metadata": {
        "colab": {
          "base_uri": "https://localhost:8080/",
          "height": 35
        },
        "id": "6VAeGmmYxKA4",
        "outputId": "91701c88-6c44-4b74-8862-c60da67101a5"
      },
      "execution_count": 18,
      "outputs": [
        {
          "output_type": "execute_result",
          "data": {
            "text/plain": [
              "'pythonworkshop'"
            ],
            "application/vnd.google.colaboratory.intrinsic+json": {
              "type": "string"
            }
          },
          "metadata": {},
          "execution_count": 18
        }
      ]
    },
    {
      "cell_type": "code",
      "source": [
        "def addElements(a,b = 4):\n",
        "  return a+b"
      ],
      "metadata": {
        "id": "Pwwh6JUP0F4_"
      },
      "execution_count": 19,
      "outputs": []
    },
    {
      "cell_type": "code",
      "source": [
        "addElements(2)"
      ],
      "metadata": {
        "colab": {
          "base_uri": "https://localhost:8080/"
        },
        "id": "95Q0T9Br0OEu",
        "outputId": "49e05e68-dedd-45b7-e46c-fa44c78eb170"
      },
      "execution_count": 20,
      "outputs": [
        {
          "output_type": "execute_result",
          "data": {
            "text/plain": [
              "6"
            ]
          },
          "metadata": {},
          "execution_count": 20
        }
      ]
    },
    {
      "cell_type": "code",
      "source": [
        "addElements(2,5)"
      ],
      "metadata": {
        "colab": {
          "base_uri": "https://localhost:8080/"
        },
        "id": "oQGBD1h30Rya",
        "outputId": "a79c10df-c181-4d16-c670-a344381d8569"
      },
      "execution_count": 21,
      "outputs": [
        {
          "output_type": "execute_result",
          "data": {
            "text/plain": [
              "7"
            ]
          },
          "metadata": {},
          "execution_count": 21
        }
      ]
    },
    {
      "cell_type": "markdown",
      "source": [
        "List"
      ],
      "metadata": {
        "id": "aW5GiR6c4DWF"
      }
    },
    {
      "cell_type": "code",
      "source": [
        "emptyList = []"
      ],
      "metadata": {
        "id": "K_DOqJUi0WyD"
      },
      "execution_count": 22,
      "outputs": []
    },
    {
      "cell_type": "code",
      "source": [
        "batsman = ['Rohit','Dhawan','Kohli','Rahane','Rayadu','Dhoni']\n",
        "batsman[0]"
      ],
      "metadata": {
        "colab": {
          "base_uri": "https://localhost:8080/",
          "height": 35
        },
        "id": "HzdgggO40baC",
        "outputId": "57f5fabb-75da-4cb4-d4fb-9a16dc459737"
      },
      "execution_count": 23,
      "outputs": [
        {
          "output_type": "execute_result",
          "data": {
            "text/plain": [
              "'Rohit'"
            ],
            "application/vnd.google.colaboratory.intrinsic+json": {
              "type": "string"
            }
          },
          "metadata": {},
          "execution_count": 23
        }
      ]
    },
    {
      "cell_type": "code",
      "source": [
        "batsman[0:2]"
      ],
      "metadata": {
        "colab": {
          "base_uri": "https://localhost:8080/"
        },
        "id": "mEDVS4dy1WXQ",
        "outputId": "77e9e883-efee-4ec6-967f-8c5fac223902"
      },
      "execution_count": 24,
      "outputs": [
        {
          "output_type": "execute_result",
          "data": {
            "text/plain": [
              "['Rohit', 'Dhawan']"
            ]
          },
          "metadata": {},
          "execution_count": 24
        }
      ]
    },
    {
      "cell_type": "code",
      "source": [
        "batsman[-1]"
      ],
      "metadata": {
        "colab": {
          "base_uri": "https://localhost:8080/",
          "height": 35
        },
        "id": "ZC9cIUuZ1bJY",
        "outputId": "97459f90-6869-4551-dfb6-648b1acdda8d"
      },
      "execution_count": 25,
      "outputs": [
        {
          "output_type": "execute_result",
          "data": {
            "text/plain": [
              "'Dhoni'"
            ],
            "application/vnd.google.colaboratory.intrinsic+json": {
              "type": "string"
            }
          },
          "metadata": {},
          "execution_count": 25
        }
      ]
    },
    {
      "cell_type": "code",
      "source": [
        "len(batsman)"
      ],
      "metadata": {
        "colab": {
          "base_uri": "https://localhost:8080/"
        },
        "id": "Ve0AlRxO1f34",
        "outputId": "87cfb276-0ba2-4469-f136-390cfba6b75e"
      },
      "execution_count": 26,
      "outputs": [
        {
          "output_type": "execute_result",
          "data": {
            "text/plain": [
              "6"
            ]
          },
          "metadata": {},
          "execution_count": 26
        }
      ]
    },
    {
      "cell_type": "code",
      "source": [
        "bowlers = [\"Bumrah\",\"Shami\",\"Bhuvi\",\"Kuldeep\",\"Chahal\"]"
      ],
      "metadata": {
        "id": "zg7Ydrtp1oNA"
      },
      "execution_count": 27,
      "outputs": []
    },
    {
      "cell_type": "code",
      "source": [
        "all_players = batsman + bowlers"
      ],
      "metadata": {
        "id": "lthem4Hu15t5"
      },
      "execution_count": 28,
      "outputs": []
    },
    {
      "cell_type": "code",
      "source": [
        "all_players"
      ],
      "metadata": {
        "colab": {
          "base_uri": "https://localhost:8080/"
        },
        "id": "ktt-JCOt2BJo",
        "outputId": "617b96dd-c123-4988-b1aa-0655fa684e73"
      },
      "execution_count": 29,
      "outputs": [
        {
          "output_type": "execute_result",
          "data": {
            "text/plain": [
              "['Rohit',\n",
              " 'Dhawan',\n",
              " 'Kohli',\n",
              " 'Rahane',\n",
              " 'Rayadu',\n",
              " 'Dhoni',\n",
              " 'Bumrah',\n",
              " 'Shami',\n",
              " 'Bhuvi',\n",
              " 'Kuldeep',\n",
              " 'Chahal']"
            ]
          },
          "metadata": {},
          "execution_count": 29
        }
      ]
    },
    {
      "cell_type": "code",
      "source": [
        "\"Bumrah\" in bowlers"
      ],
      "metadata": {
        "colab": {
          "base_uri": "https://localhost:8080/"
        },
        "id": "Yyg8THrV2GBP",
        "outputId": "f7375bdc-7bfb-4d24-893b-2c31859493d9"
      },
      "execution_count": 30,
      "outputs": [
        {
          "output_type": "execute_result",
          "data": {
            "text/plain": [
              "True"
            ]
          },
          "metadata": {},
          "execution_count": 30
        }
      ]
    },
    {
      "cell_type": "code",
      "source": [
        "\"Rayadu\" in bowlers"
      ],
      "metadata": {
        "colab": {
          "base_uri": "https://localhost:8080/"
        },
        "id": "lMTTALue2QSY",
        "outputId": "be519e08-555b-4881-acf3-c316365afc40"
      },
      "execution_count": 31,
      "outputs": [
        {
          "output_type": "execute_result",
          "data": {
            "text/plain": [
              "False"
            ]
          },
          "metadata": {},
          "execution_count": 31
        }
      ]
    },
    {
      "cell_type": "code",
      "source": [
        "all_players.index(\"Dhoni\")"
      ],
      "metadata": {
        "colab": {
          "base_uri": "https://localhost:8080/"
        },
        "id": "t-ieeaz-2Zvj",
        "outputId": "730b9681-1a71-4101-e2af-df9bd8b20f5f"
      },
      "execution_count": 32,
      "outputs": [
        {
          "output_type": "execute_result",
          "data": {
            "text/plain": [
              "5"
            ]
          },
          "metadata": {},
          "execution_count": 32
        }
      ]
    },
    {
      "cell_type": "code",
      "source": [
        "all_players.reverse()\n",
        "all_players"
      ],
      "metadata": {
        "colab": {
          "base_uri": "https://localhost:8080/"
        },
        "id": "JPp8XYGB2sta",
        "outputId": "185b3fdd-244f-48de-cdb5-ccbc8c751c30"
      },
      "execution_count": 33,
      "outputs": [
        {
          "output_type": "execute_result",
          "data": {
            "text/plain": [
              "['Chahal',\n",
              " 'Kuldeep',\n",
              " 'Bhuvi',\n",
              " 'Shami',\n",
              " 'Bumrah',\n",
              " 'Dhoni',\n",
              " 'Rayadu',\n",
              " 'Rahane',\n",
              " 'Kohli',\n",
              " 'Dhawan',\n",
              " 'Rohit']"
            ]
          },
          "metadata": {},
          "execution_count": 33
        }
      ]
    },
    {
      "cell_type": "markdown",
      "source": [
        "tuples\n"
      ],
      "metadata": {
        "id": "kIuYc9da5Imt"
      }
    },
    {
      "cell_type": "code",
      "source": [
        "odiDebut = (\"Kohli\",2008)"
      ],
      "metadata": {
        "id": "HgRCKUAT28yP"
      },
      "execution_count": 34,
      "outputs": []
    },
    {
      "cell_type": "code",
      "source": [
        "odiDebut"
      ],
      "metadata": {
        "colab": {
          "base_uri": "https://localhost:8080/"
        },
        "id": "BOzbnPoB3OfD",
        "outputId": "5b6e0b40-549e-4c7d-d915-076328868a3e"
      },
      "execution_count": 43,
      "outputs": [
        {
          "output_type": "execute_result",
          "data": {
            "text/plain": [
              "('Kohli', 2008)"
            ]
          },
          "metadata": {},
          "execution_count": 43
        }
      ]
    },
    {
      "cell_type": "code",
      "source": [],
      "metadata": {
        "id": "PjmPWQ4h5DTR"
      },
      "execution_count": null,
      "outputs": []
    },
    {
      "cell_type": "code",
      "source": [
        "odiDebut"
      ],
      "metadata": {
        "colab": {
          "base_uri": "https://localhost:8080/"
        },
        "id": "w9M2WAB03SZv",
        "outputId": "67b5708d-2353-473d-f91a-af99fe31f16f"
      },
      "execution_count": 36,
      "outputs": [
        {
          "output_type": "execute_result",
          "data": {
            "text/plain": [
              "('Kohli', 2008)"
            ]
          },
          "metadata": {},
          "execution_count": 36
        }
      ]
    },
    {
      "cell_type": "code",
      "source": [
        "odiDebut[0]"
      ],
      "metadata": {
        "colab": {
          "base_uri": "https://localhost:8080/",
          "height": 35
        },
        "id": "TwtMMGDe3ZCE",
        "outputId": "6f0b003e-80ff-4649-f989-890fa6856cbc"
      },
      "execution_count": 37,
      "outputs": [
        {
          "output_type": "execute_result",
          "data": {
            "text/plain": [
              "'Kohli'"
            ],
            "application/vnd.google.colaboratory.intrinsic+json": {
              "type": "string"
            }
          },
          "metadata": {},
          "execution_count": 37
        }
      ]
    },
    {
      "cell_type": "code",
      "source": [
        "tup1[1] = 2009"
      ],
      "metadata": {
        "colab": {
          "base_uri": "https://localhost:8080/",
          "height": 166
        },
        "id": "_UHVGBzq3cyV",
        "outputId": "fa180b5a-d4c3-4535-d1a5-c5e4f7781d12"
      },
      "execution_count": 39,
      "outputs": [
        {
          "output_type": "error",
          "ename": "NameError",
          "evalue": "ignored",
          "traceback": [
            "\u001b[0;31m---------------------------------------------------------------------------\u001b[0m",
            "\u001b[0;31mNameError\u001b[0m                                 Traceback (most recent call last)",
            "\u001b[0;32m<ipython-input-39-9195c07b537c>\u001b[0m in \u001b[0;36m<cell line: 1>\u001b[0;34m()\u001b[0m\n\u001b[0;32m----> 1\u001b[0;31m \u001b[0mtup1\u001b[0m\u001b[0;34m[\u001b[0m\u001b[0;36m1\u001b[0m\u001b[0;34m]\u001b[0m \u001b[0;34m=\u001b[0m \u001b[0;36m2009\u001b[0m\u001b[0;34m\u001b[0m\u001b[0;34m\u001b[0m\u001b[0m\n\u001b[0m",
            "\u001b[0;31mNameError\u001b[0m: name 'tup1' is not defined"
          ]
        }
      ]
    },
    {
      "cell_type": "code",
      "source": [
        "players = tuple(all_players)\n",
        "players"
      ],
      "metadata": {
        "colab": {
          "base_uri": "https://localhost:8080/"
        },
        "id": "kwrpYcg73nyO",
        "outputId": "3ab3afa8-22e4-4747-fe98-38a4e1457d96"
      },
      "execution_count": 40,
      "outputs": [
        {
          "output_type": "execute_result",
          "data": {
            "text/plain": [
              "('Chahal',\n",
              " 'Kuldeep',\n",
              " 'Bhuvi',\n",
              " 'Shami',\n",
              " 'Bumrah',\n",
              " 'Dhoni',\n",
              " 'Rayadu',\n",
              " 'Rahane',\n",
              " 'Kohli',\n",
              " 'Dhawan',\n",
              " 'Rohit')"
            ]
          },
          "metadata": {},
          "execution_count": 40
        }
      ]
    },
    {
      "cell_type": "code",
      "source": [
        "players = tuple(all_players)"
      ],
      "metadata": {
        "id": "CMG4As6I3uMu"
      },
      "execution_count": 41,
      "outputs": []
    },
    {
      "cell_type": "code",
      "source": [
        "players"
      ],
      "metadata": {
        "colab": {
          "base_uri": "https://localhost:8080/"
        },
        "id": "zSGcvvfY3zDR",
        "outputId": "976eca57-7a51-40f1-d74b-1393ee3398b9"
      },
      "execution_count": 42,
      "outputs": [
        {
          "output_type": "execute_result",
          "data": {
            "text/plain": [
              "('Chahal',\n",
              " 'Kuldeep',\n",
              " 'Bhuvi',\n",
              " 'Shami',\n",
              " 'Bumrah',\n",
              " 'Dhoni',\n",
              " 'Rayadu',\n",
              " 'Rahane',\n",
              " 'Kohli',\n",
              " 'Dhawan',\n",
              " 'Rohit')"
            ]
          },
          "metadata": {},
          "execution_count": 42
        }
      ]
    },
    {
      "cell_type": "markdown",
      "source": [
        "Set"
      ],
      "metadata": {
        "id": "ARBLa_SJ5StU"
      }
    },
    {
      "cell_type": "code",
      "source": [
        "setOfNumbers = {6,1,1,2,4,5}"
      ],
      "metadata": {
        "id": "LehD0CTz5RaA"
      },
      "execution_count": 46,
      "outputs": []
    },
    {
      "cell_type": "code",
      "source": [
        "setOfNumbers"
      ],
      "metadata": {
        "colab": {
          "base_uri": "https://localhost:8080/"
        },
        "id": "0rnsYfCG5pRx",
        "outputId": "e7bd2656-3ce3-461c-8be9-57276d52f97a"
      },
      "execution_count": 47,
      "outputs": [
        {
          "output_type": "execute_result",
          "data": {
            "text/plain": [
              "{1, 2, 4, 5, 6}"
            ]
          },
          "metadata": {},
          "execution_count": 47
        }
      ]
    },
    {
      "cell_type": "code",
      "source": [
        "wc2011 = {\"Dhoni\",\"Sehwag\",\"Tendulakar\",\"Gambhir\",\"Kohli\",\"Raina\",\"Yuvraj\",\"Yusuf\"}\n",
        "wc2015 = {\"Dhoni\",\"Dhawan\",\"Rohit\",\"Rahane\",\"Kohli\",\"Raina\",\"Rayadu\",\"Jadeja\"}"
      ],
      "metadata": {
        "id": "BYYHo_0F5ule"
      },
      "execution_count": 48,
      "outputs": []
    },
    {
      "cell_type": "code",
      "source": [
        "wc2011.union(wc2015)"
      ],
      "metadata": {
        "colab": {
          "base_uri": "https://localhost:8080/"
        },
        "id": "Rhg9T1Zj6bUb",
        "outputId": "fb888e01-b186-40cd-addf-70e28b7ab8a6"
      },
      "execution_count": 49,
      "outputs": [
        {
          "output_type": "execute_result",
          "data": {
            "text/plain": [
              "{'Dhawan',\n",
              " 'Dhoni',\n",
              " 'Gambhir',\n",
              " 'Jadeja',\n",
              " 'Kohli',\n",
              " 'Rahane',\n",
              " 'Raina',\n",
              " 'Rayadu',\n",
              " 'Rohit',\n",
              " 'Sehwag',\n",
              " 'Tendulakar',\n",
              " 'Yusuf',\n",
              " 'Yuvraj'}"
            ]
          },
          "metadata": {},
          "execution_count": 49
        }
      ]
    },
    {
      "cell_type": "code",
      "source": [
        "wc2011.intersection(wc2015)"
      ],
      "metadata": {
        "colab": {
          "base_uri": "https://localhost:8080/"
        },
        "id": "vF05H5Mr6ntl",
        "outputId": "6832aa39-55e3-441a-ff91-4f115b01423d"
      },
      "execution_count": 50,
      "outputs": [
        {
          "output_type": "execute_result",
          "data": {
            "text/plain": [
              "{'Dhoni', 'Kohli', 'Raina'}"
            ]
          },
          "metadata": {},
          "execution_count": 50
        }
      ]
    },
    {
      "cell_type": "code",
      "source": [
        "wc2015.difference(wc2011)"
      ],
      "metadata": {
        "colab": {
          "base_uri": "https://localhost:8080/"
        },
        "id": "NfWjl7NP6v0p",
        "outputId": "b9e06c71-e4b1-43eb-bfb0-8a4631b8add1"
      },
      "execution_count": 52,
      "outputs": [
        {
          "output_type": "execute_result",
          "data": {
            "text/plain": [
              "{'Dhawan', 'Jadeja', 'Rahane', 'Rayadu', 'Rohit'}"
            ]
          },
          "metadata": {},
          "execution_count": 52
        }
      ]
    },
    {
      "cell_type": "markdown",
      "source": [
        "Dictionary"
      ],
      "metadata": {
        "id": "CMvvmfXr69FP"
      }
    },
    {
      "cell_type": "code",
      "source": [
        "wcWinners ={1975:\"West Indies\",1979:\"West Indies\",1983:\"India\",1987:\"Australia\",1992:\"Pakistan\",1996:\"Sri Lanka\",1999:\"Australia\",2003:\"Australia\",2007:\"Australia\",2011:\"India\"}"
      ],
      "metadata": {
        "id": "adDo0gvJ67X5"
      },
      "execution_count": 54,
      "outputs": []
    },
    {
      "cell_type": "code",
      "source": [
        "wcWinners[1983]"
      ],
      "metadata": {
        "colab": {
          "base_uri": "https://localhost:8080/",
          "height": 35
        },
        "id": "3CzMV13v7YKr",
        "outputId": "a3066cb0-de11-4ad3-d238-79eb06cbc31c"
      },
      "execution_count": 55,
      "outputs": [
        {
          "output_type": "execute_result",
          "data": {
            "text/plain": [
              "'India'"
            ],
            "application/vnd.google.colaboratory.intrinsic+json": {
              "type": "string"
            }
          },
          "metadata": {},
          "execution_count": 55
        }
      ]
    },
    {
      "cell_type": "code",
      "source": [
        "wcWinners.values()"
      ],
      "metadata": {
        "colab": {
          "base_uri": "https://localhost:8080/"
        },
        "id": "krSOiouZ8gpO",
        "outputId": "43970b60-1983-4f99-9b04-2a6116584ff6"
      },
      "execution_count": 56,
      "outputs": [
        {
          "output_type": "execute_result",
          "data": {
            "text/plain": [
              "dict_values(['West Indies', 'West Indies', 'India', 'Australia', 'Pakistan', 'Sri Lanka', 'Australia', 'Australia', 'Australia', 'India'])"
            ]
          },
          "metadata": {},
          "execution_count": 56
        }
      ]
    },
    {
      "cell_type": "code",
      "source": [
        "wcWinners.items()"
      ],
      "metadata": {
        "colab": {
          "base_uri": "https://localhost:8080/"
        },
        "id": "NGiTrSM58mwL",
        "outputId": "16108188-37f6-49b4-92f6-5ea2cb716109"
      },
      "execution_count": 58,
      "outputs": [
        {
          "output_type": "execute_result",
          "data": {
            "text/plain": [
              "dict_items([(1975, 'West Indies'), (1979, 'West Indies'), (1983, 'India'), (1987, 'Australia'), (1992, 'Pakistan'), (1996, 'Sri Lanka'), (1999, 'Australia'), (2003, 'Australia'), (2007, 'Australia'), (2011, 'India')])"
            ]
          },
          "metadata": {},
          "execution_count": 58
        }
      ]
    },
    {
      "cell_type": "code",
      "source": [
        "wcWinners.keys()"
      ],
      "metadata": {
        "colab": {
          "base_uri": "https://localhost:8080/"
        },
        "id": "cAUv_jOS8wKS",
        "outputId": "043a6581-d268-457c-fab3-debd8f9e85d1"
      },
      "execution_count": 59,
      "outputs": [
        {
          "output_type": "execute_result",
          "data": {
            "text/plain": [
              "dict_keys([1975, 1979, 1983, 1987, 1992, 1996, 1999, 2003, 2007, 2011])"
            ]
          },
          "metadata": {},
          "execution_count": 59
        }
      ]
    },
    {
      "cell_type": "code",
      "source": [
        "set(wcWinners.values())"
      ],
      "metadata": {
        "colab": {
          "base_uri": "https://localhost:8080/"
        },
        "id": "uI6SuVsP82wQ",
        "outputId": "1d274679-ec1e-435a-ec7a-06176b59f0ed"
      },
      "execution_count": 62,
      "outputs": [
        {
          "output_type": "execute_result",
          "data": {
            "text/plain": [
              "{'Australia', 'India', 'Pakistan', 'Sri Lanka', 'West Indies'}"
            ]
          },
          "metadata": {},
          "execution_count": 62
        }
      ]
    },
    {
      "cell_type": "code",
      "source": [
        "wcWinners[2015] = \"Australia\""
      ],
      "metadata": {
        "id": "q9Ur1M6I9Pj5"
      },
      "execution_count": 63,
      "outputs": []
    },
    {
      "cell_type": "code",
      "source": [
        "wcWinners"
      ],
      "metadata": {
        "colab": {
          "base_uri": "https://localhost:8080/"
        },
        "id": "CjAOXvgb9YSg",
        "outputId": "2f9c52e3-41ff-44c6-8e57-cddf0125fcb4"
      },
      "execution_count": 64,
      "outputs": [
        {
          "output_type": "execute_result",
          "data": {
            "text/plain": [
              "{1975: 'West Indies',\n",
              " 1979: 'West Indies',\n",
              " 1983: 'India',\n",
              " 1987: 'Australia',\n",
              " 1992: 'Pakistan',\n",
              " 1996: 'Sri Lanka',\n",
              " 1999: 'Australia',\n",
              " 2003: 'Australia',\n",
              " 2007: 'Australia',\n",
              " 2011: 'India',\n",
              " 2015: 'Australia'}"
            ]
          },
          "metadata": {},
          "execution_count": 64
        }
      ]
    },
    {
      "cell_type": "markdown",
      "source": [
        "Dealing with Strings"
      ],
      "metadata": {
        "id": "fKeySnkS9f2s"
      }
    },
    {
      "cell_type": "code",
      "source": [
        "string0 = \"python\"\n",
        "string1 = \"machine learning\""
      ],
      "metadata": {
        "id": "GJ0lsxH99jDz"
      },
      "execution_count": 65,
      "outputs": []
    },
    {
      "cell_type": "code",
      "source": [
        "string2 = \"\"\"This is a multiline string\"\"\""
      ],
      "metadata": {
        "id": "1a950xfv9vN6"
      },
      "execution_count": 66,
      "outputs": []
    },
    {
      "cell_type": "code",
      "source": [
        "string0.upper()\n",
        "string0"
      ],
      "metadata": {
        "colab": {
          "base_uri": "https://localhost:8080/",
          "height": 35
        },
        "id": "owZXwBIc997c",
        "outputId": "7dac6949-2075-4790-d0a2-a96f4a5cc321"
      },
      "execution_count": 73,
      "outputs": [
        {
          "output_type": "execute_result",
          "data": {
            "text/plain": [
              "'python'"
            ],
            "application/vnd.google.colaboratory.intrinsic+json": {
              "type": "string"
            }
          },
          "metadata": {},
          "execution_count": 73
        }
      ]
    },
    {
      "cell_type": "code",
      "source": [
        "string0.lower()\n",
        "string0"
      ],
      "metadata": {
        "colab": {
          "base_uri": "https://localhost:8080/",
          "height": 35
        },
        "id": "YjanAdhV-nTo",
        "outputId": "484ccf19-23ba-4d8c-a985-a25b188bfc1c"
      },
      "execution_count": 74,
      "outputs": [
        {
          "output_type": "execute_result",
          "data": {
            "text/plain": [
              "'python'"
            ],
            "application/vnd.google.colaboratory.intrinsic+json": {
              "type": "string"
            }
          },
          "metadata": {},
          "execution_count": 74
        }
      ]
    },
    {
      "cell_type": "code",
      "source": [
        "tokens = string1.split(' ')\n",
        "tokens"
      ],
      "metadata": {
        "colab": {
          "base_uri": "https://localhost:8080/"
        },
        "id": "ZeS9VoOR-zZt",
        "outputId": "da8eb6dc-e768-47bd-d5eb-b95608dfd119"
      },
      "execution_count": 76,
      "outputs": [
        {
          "output_type": "execute_result",
          "data": {
            "text/plain": [
              "['machine', 'learning']"
            ]
          },
          "metadata": {},
          "execution_count": 76
        }
      ]
    },
    {
      "cell_type": "markdown",
      "source": [
        "Functional Programming"
      ],
      "metadata": {
        "id": "dit9POCw_LMV"
      }
    },
    {
      "cell_type": "code",
      "source": [
        "intList = [1,2,3,4,5,6,7,8,9]"
      ],
      "metadata": {
        "id": "K4IeXoXX_BQr"
      },
      "execution_count": 77,
      "outputs": []
    },
    {
      "cell_type": "code",
      "source": [
        "squareList = []\n",
        "for x in intList:\n",
        "  squareList.append(pow(x,2))\n",
        "print(squareList)\n"
      ],
      "metadata": {
        "colab": {
          "base_uri": "https://localhost:8080/"
        },
        "id": "EEeGrMIi_QQK",
        "outputId": "bed5379c-af96-49bf-d204-2ccfefa1419f"
      },
      "execution_count": 79,
      "outputs": [
        {
          "output_type": "stream",
          "name": "stdout",
          "text": [
            "[1, 4, 9, 16, 25, 36, 49, 64, 81]\n"
          ]
        }
      ]
    },
    {
      "cell_type": "code",
      "source": [
        "def square_me(x):\n",
        "  return x*x"
      ],
      "metadata": {
        "id": "z9g57GFc_tTW"
      },
      "execution_count": 80,
      "outputs": []
    },
    {
      "cell_type": "code",
      "source": [
        "squareList = map(square_me,intList)"
      ],
      "metadata": {
        "id": "cTqpM_g7_1TF"
      },
      "execution_count": 81,
      "outputs": []
    },
    {
      "cell_type": "code",
      "source": [
        "list(squareList)"
      ],
      "metadata": {
        "colab": {
          "base_uri": "https://localhost:8080/"
        },
        "id": "A-G66SpQ_-A8",
        "outputId": "c6118847-ec0b-4e0c-eb7a-2f786e3d7d4b"
      },
      "execution_count": 82,
      "outputs": [
        {
          "output_type": "execute_result",
          "data": {
            "text/plain": [
              "[1, 4, 9, 16, 25, 36, 49, 64, 81]"
            ]
          },
          "metadata": {},
          "execution_count": 82
        }
      ]
    },
    {
      "cell_type": "code",
      "source": [
        "squareList = map(lambda x: x*x, intList)\n",
        "list(squareList)"
      ],
      "metadata": {
        "colab": {
          "base_uri": "https://localhost:8080/"
        },
        "id": "TP11J4TyAFne",
        "outputId": "13c88a55-7067-4371-a517-ce4068fff62b"
      },
      "execution_count": 83,
      "outputs": [
        {
          "output_type": "execute_result",
          "data": {
            "text/plain": [
              "[1, 4, 9, 16, 25, 36, 49, 64, 81]"
            ]
          },
          "metadata": {},
          "execution_count": 83
        }
      ]
    },
    {
      "cell_type": "code",
      "source": [
        "evenInts = filter(lambda x : x % 2 == 0,intList)"
      ],
      "metadata": {
        "id": "-Ai4nclQAc-u"
      },
      "execution_count": 84,
      "outputs": []
    },
    {
      "cell_type": "code",
      "source": [
        "list(evenInts)"
      ],
      "metadata": {
        "colab": {
          "base_uri": "https://localhost:8080/"
        },
        "id": "n9YO349sApNL",
        "outputId": "5472c774-25be-4292-c76a-52abe5bb5205"
      },
      "execution_count": 85,
      "outputs": [
        {
          "output_type": "execute_result",
          "data": {
            "text/plain": [
              "[2, 4, 6, 8]"
            ]
          },
          "metadata": {},
          "execution_count": 85
        }
      ]
    },
    {
      "cell_type": "markdown",
      "source": [
        "Modules and Packages"
      ],
      "metadata": {
        "id": "stD4R7D-AulD"
      }
    },
    {
      "cell_type": "code",
      "source": [
        "import math\n",
        "math.sqrt(16)"
      ],
      "metadata": {
        "colab": {
          "base_uri": "https://localhost:8080/"
        },
        "id": "bbZZ5wAQAyZO",
        "outputId": "c2a1e191-0314-4c31-e4d3-fd0c8632e7fd"
      },
      "execution_count": 86,
      "outputs": [
        {
          "output_type": "execute_result",
          "data": {
            "text/plain": [
              "4.0"
            ]
          },
          "metadata": {},
          "execution_count": 86
        }
      ]
    },
    {
      "cell_type": "code",
      "source": [
        "from random import sample"
      ],
      "metadata": {
        "id": "U1AP2wKdA6x_"
      },
      "execution_count": 87,
      "outputs": []
    },
    {
      "cell_type": "code",
      "source": [
        "sample(range(0,11),3)"
      ],
      "metadata": {
        "colab": {
          "base_uri": "https://localhost:8080/"
        },
        "id": "MHo2SwdqA_lh",
        "outputId": "de484bb6-c93d-4a35-f1f6-83728ac5f3f7"
      },
      "execution_count": 88,
      "outputs": [
        {
          "output_type": "execute_result",
          "data": {
            "text/plain": [
              "[1, 8, 9]"
            ]
          },
          "metadata": {},
          "execution_count": 88
        }
      ]
    },
    {
      "cell_type": "markdown",
      "source": [
        "Other Features"
      ],
      "metadata": {
        "id": "1y_G-DH0BFmA"
      }
    },
    {
      "cell_type": "code",
      "source": [
        "import random\n",
        "randomList = random.sample(range(0,100),20)\n",
        "randomList"
      ],
      "metadata": {
        "colab": {
          "base_uri": "https://localhost:8080/"
        },
        "id": "RtD7tx-xBJ2w",
        "outputId": "235c3ef0-963b-4ec4-8f0a-2d3d3734e00f"
      },
      "execution_count": 89,
      "outputs": [
        {
          "output_type": "execute_result",
          "data": {
            "text/plain": [
              "[96, 49, 64, 62, 58, 29, 15, 75, 57, 89, 39, 0, 74, 91, 70, 81, 22, 50, 93, 26]"
            ]
          },
          "metadata": {},
          "execution_count": 89
        }
      ]
    },
    {
      "cell_type": "code",
      "source": [
        "from statistics import mean,median\n",
        "def getMeanAndMedian(listNum):\n",
        "  return mean(listNum), median(listNum)"
      ],
      "metadata": {
        "id": "eW9H4CKXBpSv"
      },
      "execution_count": 97,
      "outputs": []
    },
    {
      "cell_type": "code",
      "source": [
        "mean,median = getMeanAndMedian(randomList)"
      ],
      "metadata": {
        "id": "eDrVgjKoCETM"
      },
      "execution_count": 98,
      "outputs": []
    },
    {
      "cell_type": "code",
      "source": [
        "print(\"Mean:\",mean,\"Median:\",median)"
      ],
      "metadata": {
        "colab": {
          "base_uri": "https://localhost:8080/"
        },
        "id": "ZK9j2g4CCNEY",
        "outputId": "75471434-f13a-4395-bf56-50b3b2cfc598"
      },
      "execution_count": 99,
      "outputs": [
        {
          "output_type": "stream",
          "name": "stdout",
          "text": [
            "Mean: 57 Median: 60.0\n"
          ]
        }
      ]
    }
  ]
}